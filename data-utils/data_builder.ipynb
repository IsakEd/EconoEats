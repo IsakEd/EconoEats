{
 "cells": [
  {
   "cell_type": "code",
   "execution_count": 1,
   "metadata": {},
   "outputs": [],
   "source": [
    "import json"
   ]
  },
  {
   "cell_type": "code",
   "execution_count": 5,
   "metadata": {},
   "outputs": [],
   "source": [
    "# Read the JSON data from a file\n",
    "with open(\"foods.json\", \"r\", encoding=\"utf8\") as file:\n",
    "    json_array = file.read()\n",
    "data = json.loads(json_array)\n",
    "\n",
    "# Iterate over each object and update the price property\n",
    "for obj in data:\n",
    "    obj[\"bounds\"][1] = 3*obj[\"bounds\"][1]\n",
    "\n",
    "# Convert the modified data back to JSON\n",
    "modified_json_array = json.dumps(data, ensure_ascii=False)\n",
    "\n",
    "# Write the modified JSON array to a text file\n",
    "with open(\"modified_foods.txt\", \"w\", encoding=\"utf-8\") as file:\n",
    "    file.write(modified_json_array)\n"
   ]
  }
 ],
 "metadata": {
  "kernelspec": {
   "display_name": "Python 3",
   "language": "python",
   "name": "python3"
  },
  "language_info": {
   "codemirror_mode": {
    "name": "ipython",
    "version": 3
   },
   "file_extension": ".py",
   "mimetype": "text/x-python",
   "name": "python",
   "nbconvert_exporter": "python",
   "pygments_lexer": "ipython3",
   "version": "3.11.3"
  },
  "orig_nbformat": 4
 },
 "nbformat": 4,
 "nbformat_minor": 2
}
